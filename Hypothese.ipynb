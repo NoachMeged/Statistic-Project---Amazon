{
 "cells": [
  {
   "cell_type": "code",
   "execution_count": null,
   "metadata": {},
   "outputs": [
    {
     "name": "stdout",
     "output_type": "stream",
     "text": [
      "       client_id Variation\n",
      "0        9988021      Test\n",
      "1        8320017      Test\n",
      "2        4033851   Control\n",
      "3        1982004      Test\n",
      "4        9294070   Control\n",
      "...          ...       ...\n",
      "70604    2443347       NaN\n",
      "70605    8788427       NaN\n",
      "70606     266828       NaN\n",
      "70607    1266421       NaN\n",
      "70608    9895983       NaN\n",
      "\n",
      "[70609 rows x 2 columns]\n"
     ]
    }
   ],
   "source": [
    "import pandas as pd\n",
    "\n",
    "# Bestandspad van je CSV-bestand\n",
    "file_path = \"/Users/noachmeged/Documents/Ironhack/Project-Amazon/df_final_experiment_clients.txt\"\n",
    "\n",
    "# CSV-bestand inlezen met Pandas\n",
    "df = pd.read_csv(file_path)\n",
    "print(df)\n"
   ]
  },
  {
   "cell_type": "code",
   "execution_count": 2,
   "metadata": {},
   "outputs": [
    {
     "data": {
      "text/html": [
       "<div>\n",
       "<style scoped>\n",
       "    .dataframe tbody tr th:only-of-type {\n",
       "        vertical-align: middle;\n",
       "    }\n",
       "\n",
       "    .dataframe tbody tr th {\n",
       "        vertical-align: top;\n",
       "    }\n",
       "\n",
       "    .dataframe thead th {\n",
       "        text-align: right;\n",
       "    }\n",
       "</style>\n",
       "<table border=\"1\" class=\"dataframe\">\n",
       "  <thead>\n",
       "    <tr style=\"text-align: right;\">\n",
       "      <th></th>\n",
       "      <th>client_id</th>\n",
       "      <th>visitor_id</th>\n",
       "      <th>visit_id</th>\n",
       "      <th>process_step</th>\n",
       "      <th>date_time</th>\n",
       "      <th>date</th>\n",
       "      <th>time</th>\n",
       "      <th>Variation</th>\n",
       "    </tr>\n",
       "  </thead>\n",
       "  <tbody>\n",
       "    <tr>\n",
       "      <th>0</th>\n",
       "      <td>9988021</td>\n",
       "      <td>580560515_7732621733</td>\n",
       "      <td>781255054_21935453173_531117</td>\n",
       "      <td>step_3</td>\n",
       "      <td>2017-04-17 15:27:07</td>\n",
       "      <td>2017-04-17</td>\n",
       "      <td>15:27:07</td>\n",
       "      <td>Test</td>\n",
       "    </tr>\n",
       "    <tr>\n",
       "      <th>1</th>\n",
       "      <td>9988021</td>\n",
       "      <td>580560515_7732621733</td>\n",
       "      <td>781255054_21935453173_531117</td>\n",
       "      <td>step_2</td>\n",
       "      <td>2017-04-17 15:26:51</td>\n",
       "      <td>2017-04-17</td>\n",
       "      <td>15:26:51</td>\n",
       "      <td>Test</td>\n",
       "    </tr>\n",
       "    <tr>\n",
       "      <th>2</th>\n",
       "      <td>9988021</td>\n",
       "      <td>580560515_7732621733</td>\n",
       "      <td>781255054_21935453173_531117</td>\n",
       "      <td>step_3</td>\n",
       "      <td>2017-04-17 15:19:22</td>\n",
       "      <td>2017-04-17</td>\n",
       "      <td>15:19:22</td>\n",
       "      <td>Test</td>\n",
       "    </tr>\n",
       "    <tr>\n",
       "      <th>3</th>\n",
       "      <td>9988021</td>\n",
       "      <td>580560515_7732621733</td>\n",
       "      <td>781255054_21935453173_531117</td>\n",
       "      <td>step_2</td>\n",
       "      <td>2017-04-17 15:19:13</td>\n",
       "      <td>2017-04-17</td>\n",
       "      <td>15:19:13</td>\n",
       "      <td>Test</td>\n",
       "    </tr>\n",
       "    <tr>\n",
       "      <th>4</th>\n",
       "      <td>9988021</td>\n",
       "      <td>580560515_7732621733</td>\n",
       "      <td>781255054_21935453173_531117</td>\n",
       "      <td>step_3</td>\n",
       "      <td>2017-04-17 15:18:04</td>\n",
       "      <td>2017-04-17</td>\n",
       "      <td>15:18:04</td>\n",
       "      <td>Test</td>\n",
       "    </tr>\n",
       "    <tr>\n",
       "      <th>5</th>\n",
       "      <td>9988021</td>\n",
       "      <td>580560515_7732621733</td>\n",
       "      <td>781255054_21935453173_531117</td>\n",
       "      <td>step_2</td>\n",
       "      <td>2017-04-17 15:17:15</td>\n",
       "      <td>2017-04-17</td>\n",
       "      <td>15:17:15</td>\n",
       "      <td>Test</td>\n",
       "    </tr>\n",
       "    <tr>\n",
       "      <th>6</th>\n",
       "      <td>9988021</td>\n",
       "      <td>580560515_7732621733</td>\n",
       "      <td>781255054_21935453173_531117</td>\n",
       "      <td>step_1</td>\n",
       "      <td>2017-04-17 15:17:01</td>\n",
       "      <td>2017-04-17</td>\n",
       "      <td>15:17:01</td>\n",
       "      <td>Test</td>\n",
       "    </tr>\n",
       "    <tr>\n",
       "      <th>7</th>\n",
       "      <td>9988021</td>\n",
       "      <td>580560515_7732621733</td>\n",
       "      <td>781255054_21935453173_531117</td>\n",
       "      <td>start</td>\n",
       "      <td>2017-04-17 15:16:22</td>\n",
       "      <td>2017-04-17</td>\n",
       "      <td>15:16:22</td>\n",
       "      <td>Test</td>\n",
       "    </tr>\n",
       "    <tr>\n",
       "      <th>8</th>\n",
       "      <td>8320017</td>\n",
       "      <td>39393514_33118319366</td>\n",
       "      <td>960651974_70596002104_312201</td>\n",
       "      <td>confirm</td>\n",
       "      <td>2017-04-05 13:10:05</td>\n",
       "      <td>2017-04-05</td>\n",
       "      <td>13:10:05</td>\n",
       "      <td>Test</td>\n",
       "    </tr>\n",
       "    <tr>\n",
       "      <th>9</th>\n",
       "      <td>8320017</td>\n",
       "      <td>39393514_33118319366</td>\n",
       "      <td>960651974_70596002104_312201</td>\n",
       "      <td>step_3</td>\n",
       "      <td>2017-04-05 13:09:43</td>\n",
       "      <td>2017-04-05</td>\n",
       "      <td>13:09:43</td>\n",
       "      <td>Test</td>\n",
       "    </tr>\n",
       "  </tbody>\n",
       "</table>\n",
       "</div>"
      ],
      "text/plain": [
       "   client_id            visitor_id                      visit_id process_step  \\\n",
       "0    9988021  580560515_7732621733  781255054_21935453173_531117       step_3   \n",
       "1    9988021  580560515_7732621733  781255054_21935453173_531117       step_2   \n",
       "2    9988021  580560515_7732621733  781255054_21935453173_531117       step_3   \n",
       "3    9988021  580560515_7732621733  781255054_21935453173_531117       step_2   \n",
       "4    9988021  580560515_7732621733  781255054_21935453173_531117       step_3   \n",
       "5    9988021  580560515_7732621733  781255054_21935453173_531117       step_2   \n",
       "6    9988021  580560515_7732621733  781255054_21935453173_531117       step_1   \n",
       "7    9988021  580560515_7732621733  781255054_21935453173_531117        start   \n",
       "8    8320017  39393514_33118319366  960651974_70596002104_312201      confirm   \n",
       "9    8320017  39393514_33118319366  960651974_70596002104_312201       step_3   \n",
       "\n",
       "             date_time        date      time Variation  \n",
       "0  2017-04-17 15:27:07  2017-04-17  15:27:07      Test  \n",
       "1  2017-04-17 15:26:51  2017-04-17  15:26:51      Test  \n",
       "2  2017-04-17 15:19:22  2017-04-17  15:19:22      Test  \n",
       "3  2017-04-17 15:19:13  2017-04-17  15:19:13      Test  \n",
       "4  2017-04-17 15:18:04  2017-04-17  15:18:04      Test  \n",
       "5  2017-04-17 15:17:15  2017-04-17  15:17:15      Test  \n",
       "6  2017-04-17 15:17:01  2017-04-17  15:17:01      Test  \n",
       "7  2017-04-17 15:16:22  2017-04-17  15:16:22      Test  \n",
       "8  2017-04-05 13:10:05  2017-04-05  13:10:05      Test  \n",
       "9  2017-04-05 13:09:43  2017-04-05  13:09:43      Test  "
      ]
     },
     "execution_count": 2,
     "metadata": {},
     "output_type": "execute_result"
    }
   ],
   "source": [
    "import pandas as pd\n",
    "\n",
    "# Bestandspad van je CSV-bestand\n",
    "file_path = \"/Users/noachmeged/Documents/Ironhack/Project-Amazon/df_combined.csv\"\n",
    "\n",
    "# CSV-bestand inlezen met Pandas\n",
    "df = pd.read_csv(file_path)\n",
    "df.head(10)\n"
   ]
  },
  {
   "cell_type": "code",
   "execution_count": 10,
   "metadata": {},
   "outputs": [
    {
     "name": "stdout",
     "output_type": "stream",
     "text": [
      "Merge complete! The merged file has been saved.\n"
     ]
    }
   ],
   "source": [
    "import pandas as pd\n",
    "\n",
    "# Load the first CSV with client_id and variation\n",
    "variation_df = pd.read_csv(\"/Users/noachmeged/Documents/Ironhack/Project-Amazon/df_final_experiment_clients.txt\")  # Replace with the actual path\n",
    "\n",
    "# Load the second CSV with client_id and additional data\n",
    "data_df = pd.read_csv(\"/Users/noachmeged/Documents/Ironhack/Project-Amazon/df_combined.csv\")  # Replace with the actual path\n",
    "\n",
    "# Merge the dataframes on client_id\n",
    "merged_df = data_df.merge(variation_df, on=\"client_id\", how=\"left\")\n",
    "\n",
    "# Save the merged dataframe to a new CSV file\n",
    "merged_df.to_csv(\"/Users/noachmeged/Documents/Ironhack/Project-Amazon/df_combined.csv\", index=False)\n",
    "\n",
    "print(\"Merge complete! The merged file has been saved.\")\n"
   ]
  },
  {
   "cell_type": "code",
   "execution_count": null,
   "metadata": {},
   "outputs": [],
   "source": [
    "# 📌 Completion Rate Comparison\n",
    "contingency_table = pd.crosstab(df['Variation'], df['Completion_rate'])\n",
    "\n",
    "# Perform the Chi-Square Test\n",
    "chi2, p, dof, expected = chi2_contingency(contingency_table)\n",
    "\n",
    "# Print results\n",
    "print(\"\\nContingency Table:\")\n",
    "print(contingency_table)\n",
    "print(\"\\nChi-Square Test Results:\")\n",
    "print(f\"Chi-Square Statistic: {chi2}\")\n",
    "print(f\"P-value: {p}\")\n",
    "print(f\"Degrees of Freedom: {dof}\")\n",
    "print(\"\\nExpected Frequencies:\")\n",
    "print(expected)\n",
    "\n",
    "# Conclusion\n",
    "alpha = 0.05\n",
    "if p < alpha:\n",
    "    print(\"\\nReject the null hypothesis: There is a significant association between group and completion.\")\n",
    "else:\n",
    "    print(\"\\nFail to reject the null hypothesis: No significant association between group and completion.\")"
   ]
  },
  {
   "cell_type": "code",
   "execution_count": 5,
   "metadata": {},
   "outputs": [
    {
     "name": "stdout",
     "output_type": "stream",
     "text": [
      "Total Time Comparison between Test and Control Groups:\n",
      "T-Statistic: -1.2670928874371874\n",
      "P-Value: 0.20512869649862828\n",
      "\n",
      "Fail to reject the null hypothesis: No significant difference in total time between Test and Control.\n"
     ]
    }
   ],
   "source": [
    "# 📌 Average Amount Per Step\n",
    "from scipy.stats import ttest_ind\n",
    "\n",
    "# Load the dataset\n",
    "file_path = \"\"  # Replace with your actual file path\n",
    "df = pd.read_csv(file_path)\n",
    "\n",
    "# Convert the 'date_time' column to datetime\n",
    "df['date_time'] = pd.to_datetime(df['date_time'])\n",
    "\n",
    "# Sort the data by client_id and process_step to ensure proper calculation of time differences\n",
    "df = df.sort_values(by=['client_id', 'process_step'])\n",
    "\n",
    "# Calculate the time differences (in seconds) between consecutive process steps for each client\n",
    "df['time_diff'] = df.groupby('client_id')['date_time'].diff().dt.total_seconds()\n",
    "\n",
    "# Remove rows with NaN in 'time_diff' (the first row for each client will have no previous step to compare)\n",
    "df = df.dropna(subset=['time_diff'])\n",
    "\n",
    "# Now calculate the total time differences per client\n",
    "total_times = df.groupby(['client_id', 'Variation'])['time_diff'].sum().reset_index()\n",
    "\n",
    "# Perform the Two-Sample t-Test between Test and Control groups\n",
    "test_group = total_times[total_times['Variation'] == 'Test']['time_diff']\n",
    "control_group = total_times[total_times['Variation'] == 'Control']['time_diff']\n",
    "\n",
    "t_stat, p_value = ttest_ind(test_group, control_group, equal_var=False)  # Assuming unequal variances\n",
    "\n",
    "# Print results\n",
    "print(f\"Total Time Comparison between Test and Control Groups:\")\n",
    "print(f\"T-Statistic: {t_stat}\")\n",
    "print(f\"P-Value: {p_value}\")\n",
    "\n",
    "# Conclusion\n",
    "alpha = 0.05\n",
    "if p_value < alpha:\n",
    "    print(\"\\nReject the null hypothesis: There is a significant difference in total time between Test and Control.\")\n",
    "else:\n",
    "    print(\"\\nFail to reject the null hypothesis: No significant difference in total time between Test and Control.\")\n"
   ]
  },
  {
   "cell_type": "code",
   "execution_count": 13,
   "metadata": {},
   "outputs": [
    {
     "name": "stdout",
     "output_type": "stream",
     "text": [
      "The updated dataset has been saved to /Users/noachmeged/Documents/Ironhack/Project-Amazon/df_combined123.csv\n"
     ]
    }
   ],
   "source": [
    "import pandas as pd\n",
    "\n",
    "# Load the dataset\n",
    "file_path = \"/Users/noachmeged/Documents/Ironhack/Project-Amazon/df_combined.csv\"  # Replace with your actual file path\n",
    "df = pd.read_csv(file_path)\n",
    "\n",
    "# Convert the 'date_time' column to datetime\n",
    "df['date_time'] = pd.to_datetime(df['date_time'])\n",
    "\n",
    "# Reverse the order of the rows so we can calculate time differences from last to first\n",
    "df = df.sort_values(by=['visit_id', 'process_step'], ascending=[True, False])\n",
    "\n",
    "# Calculate the time differences (in seconds) between consecutive process steps for each visit_id\n",
    "df['time_diff'] = df.groupby('visit_id')['date_time'].diff(-1).dt.total_seconds()\n",
    "\n",
    "# Save the updated dataframe to a new CSV\n",
    "new_file_path = \"/Users/noachmeged/Documents/Ironhack/Project-Amazon/df_combined123.csv\"  # Replace with the desired file path\n",
    "df.to_csv(new_file_path, index=False)\n",
    "\n",
    "# Print a message to confirm saving\n",
    "print(f\"The updated dataset has been saved to {new_file_path}\")\n"
   ]
  },
  {
   "cell_type": "code",
   "execution_count": 74,
   "metadata": {},
   "outputs": [
    {
     "ename": "SyntaxError",
     "evalue": "EOL while scanning string literal (1851717008.py, line 43)",
     "output_type": "error",
     "traceback": [
      "\u001b[0;36m  Cell \u001b[0;32mIn[74], line 43\u001b[0;36m\u001b[0m\n\u001b[0;31m    print(\"\\nFail to reject the null hypothesis: No significant difference in step regressions between\u001b[0m\n\u001b[0m                                                                                                       ^\u001b[0m\n\u001b[0;31mSyntaxError\u001b[0m\u001b[0;31m:\u001b[0m EOL while scanning string literal\n"
     ]
    }
   ],
   "source": [
    "from scipy.stats import ttest_ind\n",
    "import pandas as pd\n",
    "\n",
    "# Load the dataset\n",
    "file_path = \"\"  # Vervang door het pad naar jouw bestand\n",
    "df = pd.read_csv(file_path)\n",
    "\n",
    "# Convert the 'date_time' column to datetime (indien van toepassing)\n",
    "df['date_time'] = pd.to_datetime(df['date_time'])\n",
    "\n",
    "# Sort the data by client_id and process_step to ensure proper calculation\n",
    "df = df.sort_values(by=['client_id', 'date_time'])\n",
    "\n",
    "# Identify step regressions\n",
    "df['step_diff'] = df.groupby('client_id')['process_step'].diff()  # Verschil tussen stappen\n",
    "df['regression'] = df['step_diff'].apply(lambda x: 1 if x < 0 else 0)  # Markeer regressies\n",
    "\n",
    "# Group by client and variation to calculate total regressions per client\n",
    "total_regressions = (\n",
    "    df.groupby(['client_id', 'Variation'])['regression']\n",
    "    .sum()\n",
    "    .reset_index()\n",
    "    .rename(columns={'regression': 'total_regressions'})\n",
    ")\n",
    "\n",
    "# Split the data into Test and Control groups\n",
    "test_group = total_regressions[total_regressions['Variation'] == 'Test']['total_regressions']\n",
    "control_group = total_regressions[total_regressions['Variation'] == 'Control']['total_regressions']\n",
    "\n",
    "# Perform the Two-Sample t-Test\n",
    "t_stat, p_value = ttest_ind(test_group, control_group, equal_var=False)  # Assuming unequal variances\n",
    "\n",
    "# Print results\n",
    "print(f\"Step Regression Comparison between Test and Control Groups:\")\n",
    "print(f\"T-Statistic: {t_stat}\")\n",
    "print(f\"P-Value: {p_value}\")\n",
    "\n",
    "# Conclusion\n",
    "alpha = 0.05\n",
    "if p_value < alpha:\n",
    "    print(\"\\nReject the null hypothesis: The test group has significantly fewer step regressions.\")\n",
    "else:\n",
    "    print(\"\\nFail to reject the null hypothesis: No significant difference in step regressions between \n"
   ]
  },
  {
   "cell_type": "code",
   "execution_count": 18,
   "metadata": {},
   "outputs": [
    {
     "name": "stdout",
     "output_type": "stream",
     "text": [
      "Data zonder NaN in 'Variation' opgeslagen in /Users/noachmeged/Documents/Ironhack/Project-Amazon/df_combined1.csv.csv\n"
     ]
    }
   ],
   "source": [
    "import pandas as pd\n",
    "\n",
    "# Pad naar je CSV-bestand\n",
    "csv_path = \"/Users/noachmeged/Documents/Ironhack/Project-Amazon/df_combined.csv\"  # Vervang dit met het juiste pad naar je bestand\n",
    "\n",
    "# Data inlezen\n",
    "df = pd.read_csv(csv_path)\n",
    "\n",
    "# Rijen verwijderen waar de kolom 'Variation' NaN is\n",
    "df_cleaned = df.dropna(subset=['Variation'])\n",
    "\n",
    "# Schrijf het resultaat naar een nieuwe CSV (optioneel)\n",
    "output_path = \"/Users/noachmeged/Documents/Ironhack/Project-Amazon/df_combined1.csv.csv\"\n",
    "df_cleaned.to_csv(output_path, index=False)\n",
    "\n",
    "print(f\"Data zonder NaN in 'Variation' opgeslagen in {output_path}\")\n"
   ]
  },
  {
   "cell_type": "code",
   "execution_count": 22,
   "metadata": {},
   "outputs": [
    {
     "name": "stdout",
     "output_type": "stream",
     "text": [
      "Gesorteerde data opgeslagen in /Users/noachmeged/Documents/Ironhack/Project-Amazon/df_sorted.csv\n"
     ]
    }
   ],
   "source": [
    "import pandas as pd\n",
    "import os\n",
    "\n",
    "# CSV-bestand inlezen\n",
    "csv_path = \"/Users/noachmeged/Documents/Ironhack/Project-Amazon/df_combined.csv\"\n",
    "df = pd.read_csv(csv_path)\n",
    "\n",
    "# Rijen met NaN in 'Variation' verwijderen\n",
    "df = df.dropna(subset=['Variation'])\n",
    "\n",
    "# Data sorteren op 'visit_id' en 'date_time' in oplopende volgorde\n",
    "df = df.sort_values(by=['visit_id', 'date_time'])\n",
    "\n",
    "# Opgeschoonde en gesorteerde data opslaan in een nieuw CSV-bestand\n",
    "output_path = \"/Users/noachmeged/Documents/Ironhack/Project-Amazon/df_sorted.csv\"\n",
    "df.to_csv(output_path, index=False)\n",
    "\n",
    "print(f\"Gesorteerde data opgeslagen in {output_path}\")\n"
   ]
  },
  {
   "cell_type": "code",
   "execution_count": 24,
   "metadata": {},
   "outputs": [
    {
     "name": "stdout",
     "output_type": "stream",
     "text": [
      "Data met tijdsverschillen opgeslagen in /Users/noachmeged/Documents/Ironhack/Project-Amazon/df_with_time_diff.csv\n"
     ]
    }
   ],
   "source": [
    "import pandas as pd\n",
    "\n",
    "# CSV-bestand inlezen\n",
    "csv_path = \"/Users/noachmeged/Documents/Ironhack/Project-Amazon/df_sorted.csv\"\n",
    "df = pd.read_csv(csv_path)\n",
    "\n",
    "\n",
    "# Convert 'date_time' naar datetime-formaat\n",
    "df['date_time'] = pd.to_datetime(df['date_time'])\n",
    "\n",
    "# Data sorteren op 'visit_id', 'process_step' en 'date_time'\n",
    "df = df.sort_values(by=['visit_id', 'date_time'])\n",
    "\n",
    "# Tijdsdiff per visit_id en process_step berekenen\n",
    "df['time_diff'] = df.groupby('visit_id')['date_time'].diff()\n",
    "\n",
    "# Het resultaat in een nieuwe CSV opslaan\n",
    "output_path = \"/Users/noachmeged/Documents/Ironhack/Project-Amazon/df_with_time_diff.csv\"\n",
    "df.to_csv(output_path, index=False)\n",
    "\n",
    "print(f\"Data met tijdsverschillen opgeslagen in {output_path}\")\n"
   ]
  },
  {
   "cell_type": "code",
   "execution_count": 35,
   "metadata": {},
   "outputs": [
    {
     "name": "stdout",
     "output_type": "stream",
     "text": [
      "Data met tijdsverschillen opgeslagen in /Users/noachmeged/Documents/Ironhack/Project-Amazon/df_with_time_diff_total_time.csv\n"
     ]
    }
   ],
   "source": [
    "import pandas as pd\n",
    "\n",
    "# CSV-bestand inlezen\n",
    "csv_path = \"/Users/noachmeged/Documents/Ironhack/Project-Amazon/df_with_time_diff.csv\"\n",
    "df = pd.read_csv(csv_path)\n",
    "\n",
    "# Convert 'date_time' naar datetime-formaat\n",
    "df['date_time'] = pd.to_datetime(df['date_time'])\n",
    "\n",
    "# Data sorteren op 'visit_id' en 'date_time'\n",
    "df = df.sort_values(by=['visit_id', 'date_time'])\n",
    "\n",
    "# Tijdsdiff per visit_id berekenen\n",
    "df['time_diff'] = df.groupby('visit_id')['date_time'].diff()\n",
    "\n",
    "# Alleen tijdsverschil behouden in de eerste regel van elke visit_id\n",
    "df['time_diff_single'] = df.groupby('visit_id')['time_diff'].transform(\n",
    "    lambda x: x.where(x.index == x.index[0], pd.NaT)\n",
    ")\n",
    "\n",
    "# Drop de originele 'time_diff' als alleen de single column nodig is\n",
    "df.drop(columns=['time_diff'], inplace=True)\n",
    "\n",
    "# Het resultaat in een nieuwe CSV opslaan\n",
    "output_path = \"/Users/noachmeged/Documents/Ironhack/Project-Amazon/df_with_time_diff_total_time.csv\"\n",
    "df.to_csv(output_path, index=False)\n",
    "\n",
    "print(f\"Data met tijdsverschillen opgeslagen in {output_path}\")\n"
   ]
  },
  {
   "cell_type": "code",
   "execution_count": 36,
   "metadata": {},
   "outputs": [
    {
     "name": "stdout",
     "output_type": "stream",
     "text": [
      "Data met totaal tijdsverschil opgeslagen in /Users/noachmeged/Documents/Ironhack/Project-Amazon/df_with_total_time_diff.csv\n"
     ]
    }
   ],
   "source": [
    "import pandas as pd\n",
    "\n",
    "# CSV-bestand inlezen\n",
    "csv_path = \"/Users/noachmeged/Documents/Ironhack/Project-Amazon/df_with_time_diff.csv\"\n",
    "df = pd.read_csv(csv_path)\n",
    "\n",
    "# Convert 'date_time' naar datetime-formaat\n",
    "df['date_time'] = pd.to_datetime(df['date_time'])\n",
    "\n",
    "# Data sorteren op 'visit_id' en 'date_time'\n",
    "df = df.sort_values(by=['visit_id', 'date_time'])\n",
    "\n",
    "# Tijdsdiff per visit_id in seconden berekenen\n",
    "df['time_diff'] = df.groupby('visit_id')['date_time'].diff().dt.total_seconds()\n",
    "\n",
    "# Het totaal van de 'time_diff' per visit_id berekenen\n",
    "df['total_time_diff'] = df.groupby('visit_id')['time_diff'].transform('sum')\n",
    "\n",
    "# Het resultaat in een nieuwe CSV opslaan\n",
    "output_path = \"/Users/noachmeged/Documents/Ironhack/Project-Amazon/df_with_total_time_diff.csv\"\n",
    "df.to_csv(output_path, index=False)\n",
    "\n",
    "print(f\"Data met totaal tijdsverschil opgeslagen in {output_path}\")\n"
   ]
  },
  {
   "cell_type": "code",
   "execution_count": 54,
   "metadata": {},
   "outputs": [
    {
     "name": "stdout",
     "output_type": "stream",
     "text": [
      "Data met totaal tijdsverschil per visit_id opgeslagen in /Users/noachmeged/Documents/Ironhack/Project-Amazon/df_with_total_time_diff_one_row.csv\n"
     ]
    }
   ],
   "source": [
    "import pandas as pd\n",
    "\n",
    "# CSV-bestand inlezen\n",
    "csv_path = \"/Users/noachmeged/Documents/Ironhack/Project-Amazon/df_with_time_diff.csv\"\n",
    "df = pd.read_csv(csv_path)\n",
    "\n",
    "# Convert 'date_time' naar datetime-formaat\n",
    "df['date_time'] = pd.to_datetime(df['date_time'])\n",
    "\n",
    "# Data sorteren op 'visit_id' en 'date_time'\n",
    "df = df.sort_values(by=['visit_id', 'date_time'])\n",
    "\n",
    "# Tijdsdiff per visit_id in seconden berekenen\n",
    "df['time_diff'] = df.groupby('visit_id')['date_time'].diff().dt.total_seconds()\n",
    "\n",
    "# Het totaal van de 'time_diff' per visit_id berekenen\n",
    "df_total_time = df.groupby('visit_id').agg(\n",
    "    total_time_diff=('time_diff', 'sum'),\n",
    "    first_date_time=('date_time', 'first'),  # De eerste 'date_time' voor die visit_id\n",
    "    first_date=('date', 'first'),  # De eerste 'date' voor die visit_id\n",
    "    first_time=('time', 'first')   # De eerste 'time' voor die visit_id\n",
    ").reset_index()\n",
    "\n",
    "# Het resultaat in een nieuwe CSV opslaan\n",
    "output_path = \"/Users/noachmeged/Documents/Ironhack/Project-Amazon/df_with_total_time_diff_one_row.csv\"\n",
    "df_total_time.to_csv(output_path, index=False)\n",
    "\n",
    "print(f\"Data met totaal tijdsverschil per visit_id opgeslagen in {output_path}\")\n"
   ]
  },
  {
   "cell_type": "code",
   "execution_count": 56,
   "metadata": {},
   "outputs": [
    {
     "name": "stdout",
     "output_type": "stream",
     "text": [
      "Data met totaal tijdsverschil per visit_id opgeslagen in /Users/noachmeged/Documents/Ironhack/Project-Amazon/df_with_total_time_diff_one_row.csv\n"
     ]
    }
   ],
   "source": [
    "import pandas as pd\n",
    "\n",
    "# CSV-bestand inlezen\n",
    "csv_path = \"/Users/noachmeged/Documents/Ironhack/Project-Amazon/df_with_time_diff.csv\"\n",
    "df = pd.read_csv(csv_path)\n",
    "\n",
    "# Convert 'date_time' naar datetime-formaat\n",
    "df['date_time'] = pd.to_datetime(df['date_time'])\n",
    "\n",
    "# Data sorteren op 'visit_id' en 'date_time'\n",
    "df = df.sort_values(by=['visit_id', 'date_time'])\n",
    "\n",
    "# Tijdsdiff per visit_id in seconden berekenen\n",
    "df['time_diff'] = df.groupby('visit_id')['date_time'].diff().dt.total_seconds()\n",
    "\n",
    "# Het totaal van de 'time_diff' per visit_id berekenen en de eerste waarden van 'client_id' en 'variation' behouden\n",
    "df_total_time = df.groupby('visit_id').agg(\n",
    "    total_time_diff=('time_diff', 'sum'),\n",
    "    client_id=('client_id', 'first'),\n",
    "    variation=('Variation', 'first')\n",
    ").reset_index()\n",
    "\n",
    "# Het resultaat in een nieuwe CSV opslaan\n",
    "output_path = \"/Users/noachmeged/Documents/Ironhack/Project-Amazon/df_with_total_time_diff_one_row.csv\"\n",
    "df_total_time.to_csv(output_path, index=False)\n",
    "\n",
    "print(f\"Data met totaal tijdsverschil per visit_id opgeslagen in {output_path}\")\n"
   ]
  },
  {
   "cell_type": "code",
   "execution_count": 8,
   "metadata": {},
   "outputs": [
    {
     "name": "stdout",
     "output_type": "stream",
     "text": [
      "Aantal 'confirm' per groep en per process_step:\n",
      "Variation  process_step\n",
      "Control    confirm         17505\n",
      "Test       confirm         25722\n",
      "dtype: int64\n",
      "\n",
      "Aantal 'step_1' per groep en per process_step:\n",
      "Variation  process_step\n",
      "Control    step_1          29668\n",
      "Test       step_1          38768\n",
      "dtype: int64\n",
      "\n",
      "Aantal 'step_2' per groep en per process_step:\n",
      "Variation  process_step\n",
      "Control    step_2          25886\n",
      "Test       step_2          30989\n",
      "dtype: int64\n",
      "\n",
      "Aantal 'step_3' per groep en per process_step:\n",
      "Variation  process_step\n",
      "Control    step_3          22795\n",
      "Test       step_3          25894\n",
      "dtype: int64\n"
     ]
    }
   ],
   "source": [
    "import pandas as pd\n",
    "\n",
    "# CSV-bestand inlezen\n",
    "csv_path = \"/Users/noachmeged/Documents/Ironhack/Project-Amazon/Statistic-Project---Amazon/Hypothesis/df_test_sorted.csv\"\n",
    "df = pd.read_csv(csv_path)\n",
    "\n",
    "# Groeperen per 'Variation' en 'process_step' en de tellingen berekenen\n",
    "confirm_counts = df[df['process_step'] == 'confirm'].groupby(['Variation', 'process_step']).size()\n",
    "step_1_counts = df[df['process_step'] == 'step_1'].groupby(['Variation', 'process_step']).size()\n",
    "step_2_counts = df[df['process_step'] == 'step_2'].groupby(['Variation', 'process_step']).size()\n",
    "step_3_counts = df[df['process_step'] == 'step_3'].groupby(['Variation', 'process_step']).size()\n",
    "\n",
    "# Print de tellingen per process_step per Variation\n",
    "print(\"Aantal 'confirm' per groep en per process_step:\")\n",
    "print(confirm_counts)\n",
    "\n",
    "print(\"\\nAantal 'step_1' per groep en per process_step:\")\n",
    "print(step_1_counts)\n",
    "\n",
    "print(\"\\nAantal 'step_2' per groep en per process_step:\")\n",
    "print(step_2_counts)\n",
    "\n",
    "print(\"\\nAantal 'step_3' per groep en per process_step:\")\n",
    "print(step_3_counts)\n"
   ]
  },
  {
   "cell_type": "code",
   "execution_count": 7,
   "metadata": {},
   "outputs": [
    {
     "name": "stdout",
     "output_type": "stream",
     "text": [
      "Bestand gevonden!\n"
     ]
    }
   ],
   "source": [
    "import os\n",
    "\n",
    "file_path = '/Users/noachmeged/Documents/Ironhack/Project-Amazon/Statistic-Project---Amazon/Hypothesis/df_test_sorted.csv'\n",
    "\n",
    "if os.path.exists(file_path):\n",
    "    print(\"Bestand gevonden!\")\n",
    "else:\n",
    "    print(\"Bestand niet gevonden:\", file_path)"
   ]
  },
  {
   "cell_type": "code",
   "execution_count": null,
   "metadata": {},
   "outputs": [],
   "source": []
  }
 ],
 "metadata": {
  "kernelspec": {
   "display_name": "Python 3",
   "language": "python",
   "name": "python3"
  },
  "language_info": {
   "codemirror_mode": {
    "name": "ipython",
    "version": 3
   },
   "file_extension": ".py",
   "mimetype": "text/x-python",
   "name": "python",
   "nbconvert_exporter": "python",
   "pygments_lexer": "ipython3",
   "version": "3.9.6"
  }
 },
 "nbformat": 4,
 "nbformat_minor": 2
}
